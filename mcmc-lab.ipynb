{
  "cells": [
    {
      "cell_type": "markdown",
      "metadata": {},
      "source": [
        "# Using Probabilistic Programming Languages for Bayesian Inference\n",
        "\n",
        "## Package Loading"
      ],
      "id": "35285fb1-ba20-4f57-ad2c-148a9bec3b33"
    },
    {
      "cell_type": "code",
      "execution_count": 1,
      "metadata": {},
      "outputs": [
        {
          "output_type": "stream",
          "name": "stderr",
          "text": [
            "  Activating project at `~/Teaching/simulation-data-analysis/labs/mcmc-lab`"
          ]
        }
      ],
      "source": [
        "Pkg.activate(@__DIR__)\n",
        "Pkg.instantiate()\n",
        "\n",
        "using CSV\n",
        "using DataFrames\n",
        "using Plots"
      ],
      "id": "fbfa9e0f"
    },
    {
      "cell_type": "markdown",
      "metadata": {},
      "source": [
        "## Overview\n",
        "\n",
        "In this lab, you will use a probabilistic programming language to fit a\n",
        "linear model for monthly mean tide gauge data from the [Sewell’s Point,\n",
        "VA tide\n",
        "gauge](https://tidesandcurrents.noaa.gov/waterlevels.html?id=8638610)\n",
        "from 1927 through 2022, obtained from the [Permanent Service for Mean\n",
        "Sea Level](https://psmsl.org/data/obtaining/stations/299.php). The data\n",
        "(in `data/norfolk-monthly-tide-data.txt`) has been slightly cleaned by\n",
        "setting dates to the `yyyy-mm` format. We’ve left missing values as\n",
        "`-99999`; make sure to fix those as appropriate for your programming\n",
        "language.\n",
        "\n",
        "First, let’s load the data. In Julia, we will replace `-99999` with\n",
        "`missing`."
      ],
      "id": "55216994-e46e-4cc2-9a77-b0657d42517f"
    },
    {
      "cell_type": "code",
      "execution_count": 2,
      "metadata": {},
      "outputs": [
        {
          "output_type": "display_data",
          "metadata": {},
          "data": {
            "text/plain": [
              "1145-element Vector{Union{Missing, Int64}}:\n",
              " 6950\n",
              " 6935\n",
              " 6917\n",
              "     missing\n",
              "     missing\n",
              " 6627\n",
              " 6734\n",
              " 6789\n",
              " 6777\n",
              " 6911\n",
              " 6838\n",
              " 6819\n",
              " 6896\n",
              "    ⋮\n",
              " 7288\n",
              " 7130\n",
              " 7169\n",
              " 7250\n",
              " 7463\n",
              " 7346\n",
              " 7256\n",
              " 7303\n",
              " 7424\n",
              " 7457\n",
              " 7299\n",
              " 7302"
            ]
          }
        }
      ],
      "source": [
        "tide_dat = CSV.read(\"data/norfolk-monthly-tide-data.txt\", DataFrame)\n",
        "# replace -99999 with missing\n",
        "tide_dat.gauge = ifelse.(tide_dat.gauge .== -99999, missing, tide_dat.gauge)"
      ],
      "id": "4c2e5d4c"
    },
    {
      "cell_type": "markdown",
      "metadata": {},
      "source": [
        "Now let’s plot the data."
      ],
      "id": "91ffb418-b46d-4f34-8280-09ba98a603a2"
    },
    {
      "cell_type": "code",
      "execution_count": 3,
      "metadata": {},
      "outputs": [],
      "source": [
        "scatter(tide_dat.datetime, tide_dat.gauge, xlabel=\"Month\", ylabel=\"Monthly Mean Sea Level (mm)\", legend=false)"
      ],
      "id": "cell-fig-data-plot"
    },
    {
      "cell_type": "markdown",
      "metadata": {},
      "source": [
        "We would like to quantify the uncertainty in the time-trend of this\n",
        "local sea level increase (which includes global mean sea level rise but\n",
        "also more local effects, such as subsidence). The plot in\n",
        "<a href=\"#fig-data-plot\" class=\"quarto-xref\">Figure 1</a> looks roughly\n",
        "linear, so let’s use the following model (assuming the errors are\n",
        "independent and identically-distributed for simplicity):\n",
        "\n",
        "The lab involves the following steps:\n",
        "\n",
        "1.  First, write a model for the regression in in the probabilistic\n",
        "    programming language of your choice. You’ll need to pick some priors\n",
        "    for $\\alpha$, $\\beta$, and $\\sigma$.\n",
        "2.  Sample from the posterior with four chains (for convergence\n",
        "    diagnostics).\n",
        "3.  Evaluate convergence. How many iterations did you use? What is the\n",
        "    effective sample size?\n",
        "4.  Plot the posterior distributions. In particular, we are interested\n",
        "    in uncertainty in the $\\beta$ coefficient, which reflects the mean\n",
        "    increase in sea-level rise over time in mm/months.\n",
        "5.  Generate hindcasts by sampling from the posterior distribution and\n",
        "    simulating data. If you plot the 95% posterior predictive\n",
        "    distribution and the data, how does it look?"
      ],
      "id": "10dc7872-0dd8-4ef6-9e50-a76ba9f60091"
    }
  ],
  "nbformat": 4,
  "nbformat_minor": 5,
  "metadata": {
    "kernelspec": {
      "name": "julia-1.9",
      "display_name": "Julia 1.9.4",
      "language": "julia"
    }
  }
}